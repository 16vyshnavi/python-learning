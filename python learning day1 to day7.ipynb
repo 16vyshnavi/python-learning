{
 "cells": [
  {
   "cell_type": "code",
   "execution_count": null,
   "id": "b059eb94",
   "metadata": {},
   "outputs": [],
   "source": [
    "#creating and printing a list"
   ]
  },
  {
   "cell_type": "code",
   "execution_count": 1,
   "id": "b2e44854",
   "metadata": {},
   "outputs": [
    {
     "name": "stdout",
     "output_type": "stream",
     "text": [
      "['red', 'blue', 'green']\n"
     ]
    }
   ],
   "source": [
    "colours=['red','blue','green']\n",
    "print(colours)"
   ]
  },
  {
   "cell_type": "code",
   "execution_count": null,
   "id": "acdff36a",
   "metadata": {},
   "outputs": [],
   "source": []
  },
  {
   "cell_type": "code",
   "execution_count": null,
   "id": "3cc02827",
   "metadata": {},
   "outputs": [],
   "source": [
    "#adding elements to a list"
   ]
  },
  {
   "cell_type": "code",
   "execution_count": 1,
   "id": "7ee64b71",
   "metadata": {},
   "outputs": [
    {
     "name": "stdout",
     "output_type": "stream",
     "text": [
      "['red', 'blue', 'green', 'orange']\n"
     ]
    }
   ],
   "source": [
    "colours = ['red', 'blue', 'green']\n",
    "colours.append(\"orange\")\n",
    "print(colours)"
   ]
  },
  {
   "cell_type": "code",
   "execution_count": 2,
   "id": "ae8ec7f3",
   "metadata": {},
   "outputs": [
    {
     "name": "stdout",
     "output_type": "stream",
     "text": [
      "['red', 'yellow', 'blue', 'green', 'orange']\n"
     ]
    }
   ],
   "source": [
    "colours.insert(1,'yellow')\n",
    "print(colours)"
   ]
  },
  {
   "cell_type": "code",
   "execution_count": 3,
   "id": "683a4a2e",
   "metadata": {},
   "outputs": [
    {
     "name": "stdout",
     "output_type": "stream",
     "text": [
      "['red', 'yellow', 'blue', 'green', 'orange', 'black']\n"
     ]
    }
   ],
   "source": [
    "colours.append('black')\n",
    "print(colours)"
   ]
  },
  {
   "cell_type": "code",
   "execution_count": null,
   "id": "1045ac6d",
   "metadata": {},
   "outputs": [],
   "source": []
  },
  {
   "cell_type": "code",
   "execution_count": null,
   "id": "92a4e5c5",
   "metadata": {},
   "outputs": [],
   "source": [
    "#length of a list "
   ]
  },
  {
   "cell_type": "code",
   "execution_count": 4,
   "id": "50f1f573",
   "metadata": {},
   "outputs": [
    {
     "name": "stdout",
     "output_type": "stream",
     "text": [
      "6\n"
     ]
    }
   ],
   "source": [
    "print(len(colours))\n"
   ]
  },
  {
   "cell_type": "code",
   "execution_count": null,
   "id": "02980d8c",
   "metadata": {},
   "outputs": [],
   "source": []
  },
  {
   "cell_type": "code",
   "execution_count": 5,
   "id": "5e9d3398",
   "metadata": {},
   "outputs": [
    {
     "name": "stdout",
     "output_type": "stream",
     "text": [
      "['red', 'yellow', 'white', 'green', 'orange', 'black']\n"
     ]
    }
   ],
   "source": [
    "#replaceing an element\n",
    "colours[2]='white'\n",
    "print(colours)"
   ]
  },
  {
   "cell_type": "code",
   "execution_count": null,
   "id": "77e24773",
   "metadata": {},
   "outputs": [],
   "source": []
  },
  {
   "cell_type": "code",
   "execution_count": 6,
   "id": "8b4b20ab",
   "metadata": {},
   "outputs": [
    {
     "name": "stdout",
     "output_type": "stream",
     "text": [
      "['red', 'yellow', 'green', 'orange', 'black']\n"
     ]
    }
   ],
   "source": [
    "#deleting elements from a list \n",
    "colours.pop(2)\n",
    "print(colours)"
   ]
  },
  {
   "cell_type": "code",
   "execution_count": 9,
   "id": "6d40dc77",
   "metadata": {},
   "outputs": [
    {
     "name": "stdout",
     "output_type": "stream",
     "text": [
      "['red', 'green', 'orange', 'black']\n"
     ]
    }
   ],
   "source": [
    "colours.remove('yellow') \n",
    "print(colours)"
   ]
  },
  {
   "cell_type": "code",
   "execution_count": 10,
   "id": "02f74180",
   "metadata": {},
   "outputs": [
    {
     "name": "stdout",
     "output_type": "stream",
     "text": [
      "['black', 'green', 'orange', 'red']\n"
     ]
    }
   ],
   "source": [
    "#organising a list\n",
    "colours.sort()\n",
    "print(colours)"
   ]
  },
  {
   "cell_type": "code",
   "execution_count": 11,
   "id": "676aac9e",
   "metadata": {},
   "outputs": [
    {
     "name": "stdout",
     "output_type": "stream",
     "text": [
      "['red', 'orange', 'green', 'black']\n"
     ]
    }
   ],
   "source": [
    "colours.reverse()\n",
    "print(colours)"
   ]
  },
  {
   "cell_type": "code",
   "execution_count": 12,
   "id": "722ef655",
   "metadata": {},
   "outputs": [
    {
     "name": "stdout",
     "output_type": "stream",
     "text": [
      "green\n",
      "black\n"
     ]
    }
   ],
   "source": [
    "#fetching an element from the list\n",
    "print(colours[2])\n",
    "print(colours[-1])"
   ]
  },
  {
   "cell_type": "code",
   "execution_count": 13,
   "id": "7bc0e99a",
   "metadata": {},
   "outputs": [
    {
     "name": "stdout",
     "output_type": "stream",
     "text": [
      "['orange']\n"
     ]
    }
   ],
   "source": [
    "#slicing of list\n",
    "print(colours[1:2])"
   ]
  },
  {
   "cell_type": "code",
   "execution_count": 14,
   "id": "c0156756",
   "metadata": {},
   "outputs": [
    {
     "name": "stdout",
     "output_type": "stream",
     "text": [
      "colours are :\n",
      "red\n",
      "orange\n",
      "green\n",
      "black\n"
     ]
    }
   ],
   "source": [
    "#for loop\n",
    "print('colours are :')\n",
    "for x in colours:\n",
    "    print(x)"
   ]
  },
  {
   "cell_type": "code",
   "execution_count": 15,
   "id": "3737cf88",
   "metadata": {},
   "outputs": [
    {
     "name": "stdout",
     "output_type": "stream",
     "text": [
      "['red', 'orange', 'green', 'black']\n",
      "['red', 'orange', 'green', 'black']\n"
     ]
    }
   ],
   "source": [
    "#copying a list\n",
    "a=colours[:]\n",
    "b=colours.copy()\n",
    "print(a)\n",
    "print(b)"
   ]
  },
  {
   "cell_type": "code",
   "execution_count": null,
   "id": "cd601ed7",
   "metadata": {},
   "outputs": [],
   "source": [
    "#tuple"
   ]
  },
  {
   "cell_type": "code",
   "execution_count": 1,
   "id": "ab95e258",
   "metadata": {},
   "outputs": [
    {
     "name": "stdout",
     "output_type": "stream",
     "text": [
      "(16, 29, 98)\n"
     ]
    }
   ],
   "source": [
    "a=(16,29,98)\n",
    "print(a)"
   ]
  },
  {
   "cell_type": "code",
   "execution_count": 2,
   "id": "3eb6d007",
   "metadata": {},
   "outputs": [
    {
     "data": {
      "text/plain": [
       "tuple"
      ]
     },
     "execution_count": 2,
     "metadata": {},
     "output_type": "execute_result"
    }
   ],
   "source": [
    "type(a)"
   ]
  },
  {
   "cell_type": "code",
   "execution_count": null,
   "id": "5f89f802",
   "metadata": {},
   "outputs": [],
   "source": [
    "#adding of new elements"
   ]
  },
  {
   "cell_type": "code",
   "execution_count": 4,
   "id": "81a1bae9",
   "metadata": {},
   "outputs": [
    {
     "name": "stdout",
     "output_type": "stream",
     "text": [
      "(16, 29, 98, 20)\n"
     ]
    }
   ],
   "source": [
    "a=(16,29,98,20)\n",
    "print(a)"
   ]
  },
  {
   "cell_type": "code",
   "execution_count": 5,
   "id": "1e916604",
   "metadata": {},
   "outputs": [
    {
     "name": "stdout",
     "output_type": "stream",
     "text": [
      "20\n"
     ]
    }
   ],
   "source": [
    "print(a[3])"
   ]
  },
  {
   "cell_type": "code",
   "execution_count": null,
   "id": "ddae8449",
   "metadata": {},
   "outputs": [],
   "source": [
    "#updating"
   ]
  },
  {
   "cell_type": "code",
   "execution_count": 7,
   "id": "207f1b3f",
   "metadata": {},
   "outputs": [
    {
     "name": "stdout",
     "output_type": "stream",
     "text": [
      "(9, 8, 7, 6, 1, 2, 3, 4) (16, 29, 98, 20, 9, 8, 7, 6)\n"
     ]
    }
   ],
   "source": [
    "b=(9,8,7,6)\n",
    "c=(1,2,3,4)\n",
    "print(b+c,a+b)"
   ]
  },
  {
   "cell_type": "code",
   "execution_count": null,
   "id": "bf849b54",
   "metadata": {},
   "outputs": [],
   "source": [
    "# deleting the elements"
   ]
  },
  {
   "cell_type": "code",
   "execution_count": 8,
   "id": "deeaf5cb",
   "metadata": {},
   "outputs": [
    {
     "ename": "NameError",
     "evalue": "name 'a' is not defined",
     "output_type": "error",
     "traceback": [
      "\u001b[1;31m---------------------------------------------------------------------------\u001b[0m",
      "\u001b[1;31mNameError\u001b[0m                                 Traceback (most recent call last)",
      "\u001b[1;32m<ipython-input-8-c342333e421e>\u001b[0m in \u001b[0;36m<module>\u001b[1;34m\u001b[0m\n\u001b[0;32m      1\u001b[0m \u001b[1;32mdel\u001b[0m \u001b[0ma\u001b[0m\u001b[1;33m\u001b[0m\u001b[1;33m\u001b[0m\u001b[0m\n\u001b[1;32m----> 2\u001b[1;33m \u001b[0mprint\u001b[0m\u001b[1;33m(\u001b[0m\u001b[0ma\u001b[0m\u001b[1;33m)\u001b[0m\u001b[1;33m\u001b[0m\u001b[1;33m\u001b[0m\u001b[0m\n\u001b[0m",
      "\u001b[1;31mNameError\u001b[0m: name 'a' is not defined"
     ]
    }
   ],
   "source": [
    "del a\n",
    "print(a)"
   ]
  },
  {
   "cell_type": "code",
   "execution_count": null,
   "id": "17857a02",
   "metadata": {},
   "outputs": [],
   "source": [
    "# mix_tuple"
   ]
  },
  {
   "cell_type": "code",
   "execution_count": 9,
   "id": "086914f5",
   "metadata": {},
   "outputs": [
    {
     "name": "stdout",
     "output_type": "stream",
     "text": [
      "(29, 98, 'python')\n"
     ]
    }
   ],
   "source": [
    "mix_tuple=(29,98,'python')\n",
    "print (mix_tuple)"
   ]
  },
  {
   "cell_type": "code",
   "execution_count": null,
   "id": "649c5c67",
   "metadata": {},
   "outputs": [],
   "source": [
    "# slicing of tuple"
   ]
  },
  {
   "cell_type": "code",
   "execution_count": 10,
   "id": "a7053af3",
   "metadata": {},
   "outputs": [
    {
     "name": "stdout",
     "output_type": "stream",
     "text": [
      "(0, 11, 22, 33, 44, 55, 66, 77, 88, 99)\n"
     ]
    }
   ],
   "source": [
    "a=(0,11,22,33,44,55,66,77,88,99)\n",
    "print(a)"
   ]
  },
  {
   "cell_type": "code",
   "execution_count": 11,
   "id": "a07e0f69",
   "metadata": {},
   "outputs": [
    {
     "data": {
      "text/plain": [
       "(33, 44, 55, 66)"
      ]
     },
     "execution_count": 11,
     "metadata": {},
     "output_type": "execute_result"
    }
   ],
   "source": [
    "a[3:7]"
   ]
  },
  {
   "cell_type": "code",
   "execution_count": 13,
   "id": "8b660265",
   "metadata": {},
   "outputs": [
    {
     "data": {
      "text/plain": [
       "(22, 33, 44, 55, 66, 77, 88, 99)"
      ]
     },
     "execution_count": 13,
     "metadata": {},
     "output_type": "execute_result"
    }
   ],
   "source": [
    "a[2:]"
   ]
  },
  {
   "cell_type": "code",
   "execution_count": 14,
   "id": "51c0d5b4",
   "metadata": {},
   "outputs": [
    {
     "data": {
      "text/plain": [
       "(0, 11, 22, 33, 44)"
      ]
     },
     "execution_count": 14,
     "metadata": {},
     "output_type": "execute_result"
    }
   ],
   "source": [
    "a[:5]"
   ]
  },
  {
   "cell_type": "code",
   "execution_count": 15,
   "id": "124faa32",
   "metadata": {},
   "outputs": [
    {
     "ename": "TypeError",
     "evalue": "tuple indices must be integers or slices, not tuple",
     "output_type": "error",
     "traceback": [
      "\u001b[1;31m---------------------------------------------------------------------------\u001b[0m",
      "\u001b[1;31mTypeError\u001b[0m                                 Traceback (most recent call last)",
      "\u001b[1;32m<ipython-input-15-414df7ea169e>\u001b[0m in \u001b[0;36m<module>\u001b[1;34m\u001b[0m\n\u001b[1;32m----> 1\u001b[1;33m \u001b[0mc\u001b[0m\u001b[1;33m[\u001b[0m\u001b[1;36m2\u001b[0m\u001b[1;33m:\u001b[0m\u001b[1;36m4\u001b[0m\u001b[1;33m,\u001b[0m \u001b[1;36m4\u001b[0m\u001b[1;33m:\u001b[0m\u001b[1;36m6\u001b[0m\u001b[1;33m]\u001b[0m\u001b[1;33m\u001b[0m\u001b[1;33m\u001b[0m\u001b[0m\n\u001b[0m",
      "\u001b[1;31mTypeError\u001b[0m: tuple indices must be integers or slices, not tuple"
     ]
    }
   ],
   "source": [
    "c[2:4, 4:6]"
   ]
  },
  {
   "cell_type": "code",
   "execution_count": null,
   "id": "d8183a78",
   "metadata": {},
   "outputs": [],
   "source": []
  },
  {
   "cell_type": "code",
   "execution_count": null,
   "id": "c451d4b7",
   "metadata": {},
   "outputs": [],
   "source": [
    "#length"
   ]
  },
  {
   "cell_type": "code",
   "execution_count": 12,
   "id": "3df30f66",
   "metadata": {},
   "outputs": [
    {
     "data": {
      "text/plain": [
       "10"
      ]
     },
     "execution_count": 12,
     "metadata": {},
     "output_type": "execute_result"
    }
   ],
   "source": [
    "len(a)"
   ]
  },
  {
   "cell_type": "code",
   "execution_count": null,
   "id": "58815b60",
   "metadata": {},
   "outputs": [],
   "source": []
  },
  {
   "cell_type": "code",
   "execution_count": null,
   "id": "523c34d6",
   "metadata": {},
   "outputs": [],
   "source": [
    "#user accepting input"
   ]
  },
  {
   "cell_type": "code",
   "execution_count": 19,
   "id": "f7155c43",
   "metadata": {},
   "outputs": [
    {
     "name": "stdout",
     "output_type": "stream",
     "text": [
      "what is ur name:chinnu\n",
      "chinnu\n"
     ]
    }
   ],
   "source": [
    "sms=input('what is ur name:')\n",
    "print(sms)"
   ]
  },
  {
   "cell_type": "code",
   "execution_count": null,
   "id": "60c8a9f3",
   "metadata": {},
   "outputs": [],
   "source": [
    "#enhancement   hello, nice to see u"
   ]
  },
  {
   "cell_type": "code",
   "execution_count": 20,
   "id": "e1cfd072",
   "metadata": {},
   "outputs": [
    {
     "name": "stdout",
     "output_type": "stream",
     "text": [
      "enter ur name:vyshnavi\n",
      "\n",
      "hello, nice to see u,VYSHNAVI\n"
     ]
    }
   ],
   "source": [
    "name=input('enter ur name:')\n",
    "print(f\"\\nhello, nice to see u,{name.upper()}\")"
   ]
  },
  {
   "cell_type": "markdown",
   "id": "2a3c59a4",
   "metadata": {},
   "source": []
  },
  {
   "cell_type": "code",
   "execution_count": 21,
   "id": "312e1625",
   "metadata": {},
   "outputs": [
    {
     "name": "stdout",
     "output_type": "stream",
     "text": [
      "enter ur number2998\n",
      "2998\n"
     ]
    }
   ],
   "source": [
    "num=input('enter ur number')\n",
    "print(num)"
   ]
  },
  {
   "cell_type": "code",
   "execution_count": null,
   "id": "3d65d82e",
   "metadata": {},
   "outputs": [],
   "source": [
    "# eligible to vote or not"
   ]
  },
  {
   "cell_type": "code",
   "execution_count": 22,
   "id": "9542b77f",
   "metadata": {},
   "outputs": [
    {
     "name": "stdout",
     "output_type": "stream",
     "text": [
      "enter ur age:20\n",
      "ur eligible to vote\n"
     ]
    }
   ],
   "source": [
    "age=input('enter ur age:')\n",
    "if int(age)>18:\n",
    "    print(\"ur eligible to vote\")\n",
    "else :\n",
    "    print(\"sorry,ur not elegible to vote\")\n"
   ]
  },
  {
   "cell_type": "code",
   "execution_count": null,
   "id": "26c774b8",
   "metadata": {},
   "outputs": [],
   "source": []
  },
  {
   "cell_type": "code",
   "execution_count": null,
   "id": "f3bd5f3a",
   "metadata": {},
   "outputs": [],
   "source": [
    "# printing a number it is even or odd"
   ]
  },
  {
   "cell_type": "code",
   "execution_count": 28,
   "id": "4f05d4cc",
   "metadata": {},
   "outputs": [
    {
     "name": "stdout",
     "output_type": "stream",
     "text": [
      "enter a number100\n",
      "it is even\n"
     ]
    }
   ],
   "source": [
    "num=int(input('enter a number'))\n",
    "if num%2==0:\n",
    "    print(\"it is even\")\n",
    "else :\n",
    "    print(\" it is odd\")"
   ]
  },
  {
   "cell_type": "code",
   "execution_count": null,
   "id": "9bfcb9aa",
   "metadata": {},
   "outputs": [],
   "source": []
  },
  {
   "cell_type": "code",
   "execution_count": null,
   "id": "11f2ce2b",
   "metadata": {},
   "outputs": [],
   "source": [
    "for loop"
   ]
  },
  {
   "cell_type": "code",
   "execution_count": null,
   "id": "7c98f16d",
   "metadata": {},
   "outputs": [],
   "source": [
    "# power operations"
   ]
  },
  {
   "cell_type": "code",
   "execution_count": 29,
   "id": "c3a62b9c",
   "metadata": {},
   "outputs": [
    {
     "name": "stdout",
     "output_type": "stream",
     "text": [
      "2* 1 = 2\n",
      "2* 2 = 4\n",
      "2* 3 = 6\n"
     ]
    }
   ],
   "source": [
    "for i in range(1,4):\n",
    "    print('2*',i,'=',i*2)"
   ]
  },
  {
   "cell_type": "code",
   "execution_count": null,
   "id": "9135b452",
   "metadata": {},
   "outputs": [],
   "source": [
    "#while loop"
   ]
  },
  {
   "cell_type": "code",
   "execution_count": 30,
   "id": "4e9a2fe5",
   "metadata": {},
   "outputs": [
    {
     "name": "stdout",
     "output_type": "stream",
     "text": [
      "1\n",
      "2\n",
      "3\n",
      "4\n",
      "5\n",
      "6\n",
      "7\n",
      "8\n",
      "9\n",
      "10\n"
     ]
    }
   ],
   "source": [
    "num=1\n",
    "while num<=10:\n",
    "    print(num)\n",
    "    num=num+1"
   ]
  },
  {
   "cell_type": "code",
   "execution_count": null,
   "id": "7a9c697a",
   "metadata": {},
   "outputs": [],
   "source": []
  },
  {
   "cell_type": "code",
   "execution_count": null,
   "id": "b0757a40",
   "metadata": {},
   "outputs": [],
   "source": [
    "# introduction to dictionary datatype"
   ]
  },
  {
   "cell_type": "code",
   "execution_count": 2,
   "id": "69b2d57a",
   "metadata": {},
   "outputs": [
    {
     "name": "stdout",
     "output_type": "stream",
     "text": [
      "{'rose': 'pink', 'jasmin': 'white', 'leaf': 'green'}\n"
     ]
    }
   ],
   "source": [
    "a={'rose':'pink','jasmin':'white','leaf':'green'}\n",
    "print(a)"
   ]
  },
  {
   "cell_type": "code",
   "execution_count": 3,
   "id": "1a20070e",
   "metadata": {},
   "outputs": [
    {
     "data": {
      "text/plain": [
       "dict"
      ]
     },
     "execution_count": 3,
     "metadata": {},
     "output_type": "execute_result"
    }
   ],
   "source": [
    "type(a)"
   ]
  },
  {
   "cell_type": "code",
   "execution_count": null,
   "id": "42004671",
   "metadata": {},
   "outputs": [],
   "source": [
    "#adding"
   ]
  },
  {
   "cell_type": "code",
   "execution_count": 7,
   "id": "d467d8cf",
   "metadata": {},
   "outputs": [
    {
     "name": "stdout",
     "output_type": "stream",
     "text": [
      "{'rose': 'pink', 'jasmin': 'white', 'leaf': 'green', 'marigold': 'yellow'}\n"
     ]
    }
   ],
   "source": [
    "a['marigold']='yellow'\n",
    "print(a)"
   ]
  },
  {
   "cell_type": "code",
   "execution_count": null,
   "id": "4c752eef",
   "metadata": {},
   "outputs": [],
   "source": []
  },
  {
   "cell_type": "code",
   "execution_count": null,
   "id": "0beddfb4",
   "metadata": {},
   "outputs": [],
   "source": [
    "#updating"
   ]
  },
  {
   "cell_type": "code",
   "execution_count": 8,
   "id": "ee944105",
   "metadata": {},
   "outputs": [
    {
     "name": "stdout",
     "output_type": "stream",
     "text": [
      "{'rose': 'pink', 'jasmin': 'white', 'leaf': 'green', 'marigold': 'orange'}\n"
     ]
    }
   ],
   "source": [
    "a['marigold']='orange'\n",
    "print(a)"
   ]
  },
  {
   "cell_type": "code",
   "execution_count": null,
   "id": "d8dec6b1",
   "metadata": {},
   "outputs": [],
   "source": []
  },
  {
   "cell_type": "code",
   "execution_count": null,
   "id": "a6540440",
   "metadata": {},
   "outputs": [],
   "source": [
    "#deleting the element"
   ]
  },
  {
   "cell_type": "code",
   "execution_count": 9,
   "id": "6cfac1d9",
   "metadata": {},
   "outputs": [
    {
     "ename": "NameError",
     "evalue": "name 'a' is not defined",
     "output_type": "error",
     "traceback": [
      "\u001b[1;31m---------------------------------------------------------------------------\u001b[0m",
      "\u001b[1;31mNameError\u001b[0m                                 Traceback (most recent call last)",
      "\u001b[1;32m<ipython-input-9-c342333e421e>\u001b[0m in \u001b[0;36m<module>\u001b[1;34m\u001b[0m\n\u001b[0;32m      1\u001b[0m \u001b[1;32mdel\u001b[0m \u001b[0ma\u001b[0m\u001b[1;33m\u001b[0m\u001b[1;33m\u001b[0m\u001b[0m\n\u001b[1;32m----> 2\u001b[1;33m \u001b[0mprint\u001b[0m\u001b[1;33m(\u001b[0m\u001b[0ma\u001b[0m\u001b[1;33m)\u001b[0m\u001b[1;33m\u001b[0m\u001b[1;33m\u001b[0m\u001b[0m\n\u001b[0m",
      "\u001b[1;31mNameError\u001b[0m: name 'a' is not defined"
     ]
    }
   ],
   "source": [
    "del a\n",
    "print(a)"
   ]
  },
  {
   "cell_type": "code",
   "execution_count": null,
   "id": "4ff09dcd",
   "metadata": {},
   "outputs": [],
   "source": []
  },
  {
   "cell_type": "code",
   "execution_count": null,
   "id": "6c24c9ac",
   "metadata": {},
   "outputs": [],
   "source": [
    "#sets"
   ]
  },
  {
   "cell_type": "code",
   "execution_count": 11,
   "id": "951809e1",
   "metadata": {},
   "outputs": [],
   "source": [
    "a={'hyd','wgl','clg'}"
   ]
  },
  {
   "cell_type": "code",
   "execution_count": 12,
   "id": "1241ab5e",
   "metadata": {},
   "outputs": [
    {
     "name": "stdout",
     "output_type": "stream",
     "text": [
      "{'clg', 'wgl', 'hyd'}\n"
     ]
    }
   ],
   "source": [
    "print(a)"
   ]
  },
  {
   "cell_type": "code",
   "execution_count": 15,
   "id": "b460098f",
   "metadata": {},
   "outputs": [
    {
     "data": {
      "text/plain": [
       "set"
      ]
     },
     "execution_count": 15,
     "metadata": {},
     "output_type": "execute_result"
    }
   ],
   "source": [
    "type(a)"
   ]
  },
  {
   "cell_type": "code",
   "execution_count": 17,
   "id": "c7bdb8d2",
   "metadata": {},
   "outputs": [
    {
     "name": "stdout",
     "output_type": "stream",
     "text": [
      "{2, 3}\n"
     ]
    }
   ],
   "source": [
    "c={2,2,2,3,3,3,3,}\n",
    "print(c)"
   ]
  },
  {
   "cell_type": "code",
   "execution_count": 18,
   "id": "099b336d",
   "metadata": {},
   "outputs": [
    {
     "data": {
      "text/plain": [
       "2"
      ]
     },
     "execution_count": 18,
     "metadata": {},
     "output_type": "execute_result"
    }
   ],
   "source": [
    "len(c)"
   ]
  },
  {
   "cell_type": "code",
   "execution_count": null,
   "id": "328dfe1b",
   "metadata": {},
   "outputs": [],
   "source": []
  },
  {
   "cell_type": "code",
   "execution_count": null,
   "id": "463de825",
   "metadata": {},
   "outputs": [],
   "source": [
    " #adding "
   ]
  },
  {
   "cell_type": "code",
   "execution_count": 19,
   "id": "febe71ca",
   "metadata": {},
   "outputs": [
    {
     "name": "stdout",
     "output_type": "stream",
     "text": [
      "{1, 2, 3, 4, 5, 6, 7, 8}\n",
      "{1, 2, 3, 4, 5, 6, 7, 8, 10}\n"
     ]
    }
   ],
   "source": [
    "b={1,2,3,4,5,6,7,8}\n",
    "print(b)\n",
    "b.add(10)\n",
    "print(b)"
   ]
  },
  {
   "cell_type": "code",
   "execution_count": 20,
   "id": "98264bbd",
   "metadata": {},
   "outputs": [
    {
     "data": {
      "text/plain": [
       "9"
      ]
     },
     "execution_count": 20,
     "metadata": {},
     "output_type": "execute_result"
    }
   ],
   "source": [
    "len(b)"
   ]
  },
  {
   "cell_type": "code",
   "execution_count": null,
   "id": "7b79ddd3",
   "metadata": {},
   "outputs": [],
   "source": []
  },
  {
   "cell_type": "code",
   "execution_count": null,
   "id": "af33b2cd",
   "metadata": {},
   "outputs": [],
   "source": [
    "#updating elements in set"
   ]
  },
  {
   "cell_type": "code",
   "execution_count": 23,
   "id": "b890ec98",
   "metadata": {},
   "outputs": [
    {
     "name": "stdout",
     "output_type": "stream",
     "text": [
      "{33, 44, 22}\n",
      "{1, 2, 3, 4, 5, 6, 7, 8, 33, 10, 44, 22}\n"
     ]
    }
   ],
   "source": [
    "c={22,33,44}\n",
    "print(c)\n",
    "b.update(c)\n",
    "print(b)"
   ]
  },
  {
   "cell_type": "code",
   "execution_count": null,
   "id": "5f66fee7",
   "metadata": {},
   "outputs": [],
   "source": []
  },
  {
   "cell_type": "code",
   "execution_count": null,
   "id": "7c27519f",
   "metadata": {},
   "outputs": [],
   "source": [
    "##deleting element in set"
   ]
  },
  {
   "cell_type": "code",
   "execution_count": 24,
   "id": "a7236759",
   "metadata": {},
   "outputs": [
    {
     "name": "stdout",
     "output_type": "stream",
     "text": [
      "{1, 2, 3, 4, 5, 6, 7, 8, 33, 44, 22}\n"
     ]
    }
   ],
   "source": [
    "b.remove(10)\n",
    "print(b)"
   ]
  },
  {
   "cell_type": "code",
   "execution_count": 25,
   "id": "36386610",
   "metadata": {},
   "outputs": [
    {
     "data": {
      "text/plain": [
       "11"
      ]
     },
     "execution_count": 25,
     "metadata": {},
     "output_type": "execute_result"
    }
   ],
   "source": [
    "len(b)"
   ]
  },
  {
   "cell_type": "code",
   "execution_count": null,
   "id": "31a7f1a5",
   "metadata": {},
   "outputs": [],
   "source": []
  },
  {
   "cell_type": "code",
   "execution_count": null,
   "id": "8bd2946d",
   "metadata": {},
   "outputs": [],
   "source": [
    "#prime or not"
   ]
  },
  {
   "cell_type": "code",
   "execution_count": 28,
   "id": "8a21048e",
   "metadata": {},
   "outputs": [
    {
     "name": "stdout",
     "output_type": "stream",
     "text": [
      "enter a number76\n",
      "not a prime\n"
     ]
    }
   ],
   "source": [
    "num=int(input(\"enter a number\"))\n",
    "for i in range(2,num):\n",
    "    if num%i==0:\n",
    "        print(\"not a prime\")\n",
    "        break\n",
    "else:\n",
    "        print(\"it is prime\")"
   ]
  },
  {
   "cell_type": "code",
   "execution_count": null,
   "id": "494e1840",
   "metadata": {},
   "outputs": [],
   "source": []
  },
  {
   "cell_type": "code",
   "execution_count": null,
   "id": "72874f22",
   "metadata": {},
   "outputs": [],
   "source": []
  },
  {
   "cell_type": "code",
   "execution_count": null,
   "id": "ff5849e2",
   "metadata": {},
   "outputs": [],
   "source": []
  },
  {
   "cell_type": "code",
   "execution_count": null,
   "id": "c1338f68",
   "metadata": {},
   "outputs": [],
   "source": []
  },
  {
   "cell_type": "code",
   "execution_count": null,
   "id": "86fec355",
   "metadata": {},
   "outputs": [],
   "source": []
  },
  {
   "cell_type": "code",
   "execution_count": null,
   "id": "afca7e6e",
   "metadata": {},
   "outputs": [],
   "source": []
  },
  {
   "cell_type": "code",
   "execution_count": null,
   "id": "e3420367",
   "metadata": {},
   "outputs": [],
   "source": []
  },
  {
   "cell_type": "code",
   "execution_count": null,
   "id": "615622c6",
   "metadata": {},
   "outputs": [],
   "source": []
  },
  {
   "cell_type": "code",
   "execution_count": null,
   "id": "9bcb11b8",
   "metadata": {},
   "outputs": [],
   "source": []
  },
  {
   "cell_type": "code",
   "execution_count": null,
   "id": "93bb9f32",
   "metadata": {},
   "outputs": [],
   "source": []
  },
  {
   "cell_type": "code",
   "execution_count": null,
   "id": "b44571b1",
   "metadata": {},
   "outputs": [],
   "source": []
  },
  {
   "cell_type": "code",
   "execution_count": null,
   "id": "a3c570f0",
   "metadata": {},
   "outputs": [],
   "source": []
  },
  {
   "cell_type": "code",
   "execution_count": null,
   "id": "a086a420",
   "metadata": {},
   "outputs": [],
   "source": []
  },
  {
   "cell_type": "code",
   "execution_count": null,
   "id": "55872be6",
   "metadata": {},
   "outputs": [],
   "source": []
  },
  {
   "cell_type": "code",
   "execution_count": null,
   "id": "71e520b5",
   "metadata": {},
   "outputs": [],
   "source": []
  },
  {
   "cell_type": "code",
   "execution_count": null,
   "id": "a06f30a4",
   "metadata": {},
   "outputs": [],
   "source": []
  },
  {
   "cell_type": "code",
   "execution_count": null,
   "id": "66dc25f4",
   "metadata": {},
   "outputs": [],
   "source": []
  },
  {
   "cell_type": "code",
   "execution_count": null,
   "id": "ad7c024f",
   "metadata": {},
   "outputs": [],
   "source": []
  },
  {
   "cell_type": "code",
   "execution_count": null,
   "id": "4f8c79c3",
   "metadata": {},
   "outputs": [],
   "source": []
  },
  {
   "cell_type": "code",
   "execution_count": null,
   "id": "a93cadb8",
   "metadata": {},
   "outputs": [],
   "source": []
  },
  {
   "cell_type": "code",
   "execution_count": null,
   "id": "20120775",
   "metadata": {},
   "outputs": [],
   "source": []
  },
  {
   "cell_type": "code",
   "execution_count": null,
   "id": "28a3b8dc",
   "metadata": {},
   "outputs": [],
   "source": []
  },
  {
   "cell_type": "code",
   "execution_count": null,
   "id": "7fda3e5d",
   "metadata": {},
   "outputs": [],
   "source": []
  },
  {
   "cell_type": "code",
   "execution_count": null,
   "id": "dc9e2d7d",
   "metadata": {},
   "outputs": [],
   "source": []
  }
 ],
 "metadata": {
  "kernelspec": {
   "display_name": "Python 3",
   "language": "python",
   "name": "python3"
  },
  "language_info": {
   "codemirror_mode": {
    "name": "ipython",
    "version": 3
   },
   "file_extension": ".py",
   "mimetype": "text/x-python",
   "name": "python",
   "nbconvert_exporter": "python",
   "pygments_lexer": "ipython3",
   "version": "3.8.8"
  }
 },
 "nbformat": 4,
 "nbformat_minor": 5
}
